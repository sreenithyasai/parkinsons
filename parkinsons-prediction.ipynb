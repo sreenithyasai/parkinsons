{
    "cells": [
        {
            "cell_type": "code",
            "execution_count": null,
            "metadata": {
                "language": "python"
            },
            "outputs": [],
            "source": [
                "import numpy as np\n",
                "import pandas as pd\n",
                "from sklearn.model_selection import train_test_split\n",
                "from sklearn.preprocessing import StandardScaler\n",
                "from sklearn import svm\n",
                "from sklearn.metrics import accuracy_score"
            ]
        },
        {
            "cell_type": "code",
            "execution_count": null,
            "metadata": {
                "language": "python"
            },
            "outputs": [],
            "source": [
                "parkinsons_data = pd.read_csv('../data/parkinsons.csv')"
            ]
        },
        {
            "cell_type": "code",
            "execution_count": null,
            "metadata": {
                "language": "python"
            },
            "outputs": [],
            "source": [
                "parkinsons_data.head()"
            ]
        },
        {
            "cell_type": "code",
            "execution_count": null,
            "metadata": {
                "language": "python"
            },
            "outputs": [],
            "source": [
                "parkinsons_data.shape"
            ]
        },
        {
            "cell_type": "code",
            "execution_count": null,
            "metadata": {
                "language": "python"
            },
            "outputs": [],
            "source": [
                "parkinsons_data.info()"
            ]
        },
        {
            "cell_type": "code",
            "execution_count": null,
            "metadata": {
                "language": "python"
            },
            "outputs": [],
            "source": [
                "parkinsons_data.isnull().sum()"
            ]
        },
        {
            "cell_type": "code",
            "execution_count": null,
            "metadata": {
                "language": "python"
            },
            "outputs": [],
            "source": [
                "parkinsons_data.describe()"
            ]
        },
        {
            "cell_type": "code",
            "execution_count": null,
            "metadata": {
                "language": "python"
            },
            "outputs": [],
            "source": [
                "parkinsons_data['status'].value_counts()"
            ]
        },
        {
            "cell_type": "code",
            "execution_count": null,
            "metadata": {
                "language": "python"
            },
            "outputs": [],
            "source": [
                "parkinsons_data.drop('name', axis=1).groupby('status').mean()"
            ]
        },
        {
            "cell_type": "code",
            "execution_count": null,
            "metadata": {
                "language": "python"
            },
            "outputs": [],
            "source": [
                "X = parkinsons_data.drop(columns=['name','status'], axis=1)\n",
                "Y = parkinsons_data['status']"
            ]
        },
        {
            "cell_type": "code",
            "execution_count": null,
            "metadata": {
                "language": "python"
            },
            "outputs": [],
            "source": [
                "X_train, X_test, Y_train, Y_test = train_test_split(X, Y, test_size=0.2, random_state=2)"
            ]
        },
        {
            "cell_type": "code",
            "execution_count": null,
            "metadata": {
                "language": "python"
            },
            "outputs": [],
            "source": [
                "scaler = StandardScaler()\n",
                "scaler.fit(X_train)\n",
                "X_train = scaler.transform(X_train)\n",
                "X_test = scaler.transform(X_test)"
            ]
        },
        {
            "cell_type": "code",
            "execution_count": null,
            "metadata": {
                "language": "python"
            },
            "outputs": [],
            "source": [
                "model = svm.SVC(kernel='linear')\n",
                "model.fit(X_train, Y_train)"
            ]
        },
        {
            "cell_type": "code",
            "execution_count": null,
            "metadata": {
                "language": "python"
            },
            "outputs": [],
            "source": [
                "X_train_prediction = model.predict(X_train)\n",
                "training_data_accuracy = accuracy_score(Y_train, X_train_prediction)\n",
                "print('Accuracy score of training data : ', training_data_accuracy)"
            ]
        },
        {
            "cell_type": "code",
            "execution_count": null,
            "metadata": {
                "language": "python"
            },
            "outputs": [],
            "source": [
                "X_test_prediction = model.predict(X_test)\n",
                "test_data_accuracy = accuracy_score(Y_test, X_test_prediction)\n",
                "print('Accuracy score of test data : ', test_data_accuracy)"
            ]
        },
        {
            "cell_type": "code",
            "execution_count": null,
            "metadata": {
                "language": "python"
            },
            "outputs": [],
            "source": [
                "input_data = (197.07600,206.89600,192.05500,0.00289,0.00001,0.00166,0.00168,0.00498,0.01098,0.09700,0.00563,0.00680,0.00802,0.01689,0.00339,26.77500,0.422229,0.741367,-7.348300,0.177551,1.743867,0.085569)\n",
                "input_data_as_numpy_array = np.asarray(input_data)\n",
                "input_data_reshaped = input_data_as_numpy_array.reshape(1,-1)\n",
                "feature_names = X.columns\n",
                "input_data_df = pd.DataFrame(input_data_reshaped, columns=feature_names)\n",
                "std_data = scaler.transform(input_data_df)\n",
                "prediction = model.predict(std_data)\n",
                "print(prediction)\n",
                "if(prediction[0]==0):\n",
                "  print(\"No\")\n",
                "else:\n",
                "  print(\"Yes\")"
            ]
        }
    ],
    "metadata": {
        "kernelspec": {
            "display_name": "Python 3",
            "language": "python",
            "name": "python3"
        },
        "language_info": {
            "codemirror_mode": {
                "name": "ipython",
                "version": 3
            },
            "file_extension": ".py",
            "mimetype": "text/x-python",
            "name": "python",
            "nbconvert_exporter": "python",
            "pygments_lexer": "ipython3",
            "version": "3.8.5"
        }
    },
    "nbformat": 4,
    "nbformat_minor": 4
}
